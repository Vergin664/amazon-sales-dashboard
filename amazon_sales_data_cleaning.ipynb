{
 "cells": [
  {
   "cell_type": "code",
   "execution_count": 10,
   "id": "114f6a2a-284b-4be2-9440-5e65d4b4be27",
   "metadata": {},
   "outputs": [],
   "source": [
    "import pandas as pd\n",
    "\n",
    "\n",
    "import warnings\n",
    "warnings.filterwarnings('ignore')"
   ]
  },
  {
   "cell_type": "code",
   "execution_count": 4,
   "id": "1dbd755f-1a1c-461b-8fd0-aa7c1292b484",
   "metadata": {},
   "outputs": [
    {
     "data": {
      "text/html": [
       "<div>\n",
       "<style scoped>\n",
       "    .dataframe tbody tr th:only-of-type {\n",
       "        vertical-align: middle;\n",
       "    }\n",
       "\n",
       "    .dataframe tbody tr th {\n",
       "        vertical-align: top;\n",
       "    }\n",
       "\n",
       "    .dataframe thead th {\n",
       "        text-align: right;\n",
       "    }\n",
       "</style>\n",
       "<table border=\"1\" class=\"dataframe\">\n",
       "  <thead>\n",
       "    <tr style=\"text-align: right;\">\n",
       "      <th></th>\n",
       "      <th>Order ID</th>\n",
       "      <th>Date</th>\n",
       "      <th>Product</th>\n",
       "      <th>Category</th>\n",
       "      <th>Price</th>\n",
       "      <th>Quantity</th>\n",
       "      <th>Total Sales</th>\n",
       "      <th>Customer Name</th>\n",
       "      <th>Customer Location</th>\n",
       "      <th>Payment Method</th>\n",
       "      <th>Status</th>\n",
       "    </tr>\n",
       "  </thead>\n",
       "  <tbody>\n",
       "    <tr>\n",
       "      <th>0</th>\n",
       "      <td>ORD0001</td>\n",
       "      <td>14-03-25</td>\n",
       "      <td>Running Shoes</td>\n",
       "      <td>Footwear</td>\n",
       "      <td>60</td>\n",
       "      <td>3</td>\n",
       "      <td>180</td>\n",
       "      <td>Emma Clark</td>\n",
       "      <td>New York</td>\n",
       "      <td>Debit Card</td>\n",
       "      <td>Cancelled</td>\n",
       "    </tr>\n",
       "    <tr>\n",
       "      <th>1</th>\n",
       "      <td>ORD0002</td>\n",
       "      <td>20-03-25</td>\n",
       "      <td>Headphones</td>\n",
       "      <td>Electronics</td>\n",
       "      <td>100</td>\n",
       "      <td>4</td>\n",
       "      <td>400</td>\n",
       "      <td>Emily Johnson</td>\n",
       "      <td>San Francisco</td>\n",
       "      <td>Debit Card</td>\n",
       "      <td>Pending</td>\n",
       "    </tr>\n",
       "    <tr>\n",
       "      <th>2</th>\n",
       "      <td>ORD0003</td>\n",
       "      <td>15-02-25</td>\n",
       "      <td>Running Shoes</td>\n",
       "      <td>Footwear</td>\n",
       "      <td>60</td>\n",
       "      <td>2</td>\n",
       "      <td>120</td>\n",
       "      <td>John Doe</td>\n",
       "      <td>Denver</td>\n",
       "      <td>Amazon Pay</td>\n",
       "      <td>Cancelled</td>\n",
       "    </tr>\n",
       "    <tr>\n",
       "      <th>3</th>\n",
       "      <td>ORD0004</td>\n",
       "      <td>19-02-25</td>\n",
       "      <td>Running Shoes</td>\n",
       "      <td>Footwear</td>\n",
       "      <td>60</td>\n",
       "      <td>3</td>\n",
       "      <td>180</td>\n",
       "      <td>Olivia Wilson</td>\n",
       "      <td>Dallas</td>\n",
       "      <td>Credit Card</td>\n",
       "      <td>Pending</td>\n",
       "    </tr>\n",
       "    <tr>\n",
       "      <th>4</th>\n",
       "      <td>ORD0005</td>\n",
       "      <td>10-03-25</td>\n",
       "      <td>Smartwatch</td>\n",
       "      <td>Electronics</td>\n",
       "      <td>150</td>\n",
       "      <td>3</td>\n",
       "      <td>450</td>\n",
       "      <td>Emma Clark</td>\n",
       "      <td>New York</td>\n",
       "      <td>Debit Card</td>\n",
       "      <td>Pending</td>\n",
       "    </tr>\n",
       "  </tbody>\n",
       "</table>\n",
       "</div>"
      ],
      "text/plain": [
       "  Order ID      Date        Product     Category  Price  Quantity  \\\n",
       "0  ORD0001  14-03-25  Running Shoes     Footwear     60         3   \n",
       "1  ORD0002  20-03-25     Headphones  Electronics    100         4   \n",
       "2  ORD0003  15-02-25  Running Shoes     Footwear     60         2   \n",
       "3  ORD0004  19-02-25  Running Shoes     Footwear     60         3   \n",
       "4  ORD0005  10-03-25     Smartwatch  Electronics    150         3   \n",
       "\n",
       "   Total Sales  Customer Name Customer Location Payment Method     Status  \n",
       "0          180     Emma Clark          New York     Debit Card  Cancelled  \n",
       "1          400  Emily Johnson     San Francisco     Debit Card    Pending  \n",
       "2          120       John Doe            Denver     Amazon Pay  Cancelled  \n",
       "3          180  Olivia Wilson            Dallas    Credit Card    Pending  \n",
       "4          450     Emma Clark          New York     Debit Card    Pending  "
      ]
     },
     "execution_count": 4,
     "metadata": {},
     "output_type": "execute_result"
    }
   ],
   "source": [
    "df=pd.read_csv(r'amazon_sales_data 2025.csv')\n",
    "df.head()"
   ]
  },
  {
   "cell_type": "code",
   "execution_count": 5,
   "id": "36ec8875-2fce-4fbd-9d1a-1244bc1d29dc",
   "metadata": {},
   "outputs": [
    {
     "data": {
      "text/plain": [
       "(250, 11)"
      ]
     },
     "execution_count": 5,
     "metadata": {},
     "output_type": "execute_result"
    }
   ],
   "source": [
    "df.shape"
   ]
  },
  {
   "cell_type": "code",
   "execution_count": 7,
   "id": "8df28b88-fd9c-495f-b0d9-7afcf9044383",
   "metadata": {},
   "outputs": [
    {
     "name": "stdout",
     "output_type": "stream",
     "text": [
      "<class 'pandas.core.frame.DataFrame'>\n",
      "RangeIndex: 250 entries, 0 to 249\n",
      "Data columns (total 11 columns):\n",
      " #   Column             Non-Null Count  Dtype \n",
      "---  ------             --------------  ----- \n",
      " 0   Order ID           250 non-null    object\n",
      " 1   Date               250 non-null    object\n",
      " 2   Product            250 non-null    object\n",
      " 3   Category           250 non-null    object\n",
      " 4   Price              250 non-null    int64 \n",
      " 5   Quantity           250 non-null    int64 \n",
      " 6   Total Sales        250 non-null    int64 \n",
      " 7   Customer Name      250 non-null    object\n",
      " 8   Customer Location  250 non-null    object\n",
      " 9   Payment Method     250 non-null    object\n",
      " 10  Status             250 non-null    object\n",
      "dtypes: int64(3), object(8)\n",
      "memory usage: 21.6+ KB\n"
     ]
    }
   ],
   "source": [
    "df.info()"
   ]
  },
  {
   "cell_type": "code",
   "execution_count": 11,
   "id": "92c7d4d6-b64f-4f8c-9c57-1a7ee229190b",
   "metadata": {},
   "outputs": [],
   "source": [
    "df['Date']=pd.to_datetime(df['Date'])"
   ]
  },
  {
   "cell_type": "code",
   "execution_count": 12,
   "id": "d40c2287-7d70-490e-8390-e501434a5fe7",
   "metadata": {},
   "outputs": [
    {
     "data": {
      "text/plain": [
       "Order ID                     object\n",
       "Date                 datetime64[ns]\n",
       "Product                      object\n",
       "Category                     object\n",
       "Price                         int64\n",
       "Quantity                      int64\n",
       "Total Sales                   int64\n",
       "Customer Name                object\n",
       "Customer Location            object\n",
       "Payment Method               object\n",
       "Status                       object\n",
       "dtype: object"
      ]
     },
     "execution_count": 12,
     "metadata": {},
     "output_type": "execute_result"
    }
   ],
   "source": [
    "df.dtypes"
   ]
  },
  {
   "cell_type": "code",
   "execution_count": 13,
   "id": "ac2449ff-1ec4-4034-b0af-d1ed53fa8646",
   "metadata": {},
   "outputs": [
    {
     "data": {
      "text/plain": [
       "0"
      ]
     },
     "execution_count": 13,
     "metadata": {},
     "output_type": "execute_result"
    }
   ],
   "source": [
    "df.duplicated().sum()"
   ]
  },
  {
   "cell_type": "code",
   "execution_count": 14,
   "id": "5fa4c312-6247-4c3a-8844-5e1c77e5f6ba",
   "metadata": {},
   "outputs": [
    {
     "data": {
      "text/plain": [
       "Order ID             0\n",
       "Date                 0\n",
       "Product              0\n",
       "Category             0\n",
       "Price                0\n",
       "Quantity             0\n",
       "Total Sales          0\n",
       "Customer Name        0\n",
       "Customer Location    0\n",
       "Payment Method       0\n",
       "Status               0\n",
       "dtype: int64"
      ]
     },
     "execution_count": 14,
     "metadata": {},
     "output_type": "execute_result"
    }
   ],
   "source": [
    "df.isnull().sum()"
   ]
  },
  {
   "cell_type": "code",
   "execution_count": null,
   "id": "5af1d76d-c2a6-4e71-8290-a7649b0456e7",
   "metadata": {},
   "outputs": [],
   "source": []
  },
  {
   "cell_type": "code",
   "execution_count": 15,
   "id": "edab0afd-96ff-4dbc-91b2-70af81cbc265",
   "metadata": {},
   "outputs": [],
   "source": [
    "# Convert to CSV file\n",
    "df.to_csv('Amazon_Cleaned.csv', index=False)"
   ]
  },
  {
   "cell_type": "code",
   "execution_count": null,
   "id": "bb52361b-faae-4c2a-aa07-8ec25e46cb39",
   "metadata": {},
   "outputs": [],
   "source": []
  },
  {
   "cell_type": "code",
   "execution_count": null,
   "id": "9dc7b44f-0fc5-43a9-8a44-3a14f5402649",
   "metadata": {},
   "outputs": [],
   "source": []
  }
 ],
 "metadata": {
  "kernelspec": {
   "display_name": "Python 3 (ipykernel)",
   "language": "python",
   "name": "python3"
  },
  "language_info": {
   "codemirror_mode": {
    "name": "ipython",
    "version": 3
   },
   "file_extension": ".py",
   "mimetype": "text/x-python",
   "name": "python",
   "nbconvert_exporter": "python",
   "pygments_lexer": "ipython3",
   "version": "3.11.7"
  }
 },
 "nbformat": 4,
 "nbformat_minor": 5
}
